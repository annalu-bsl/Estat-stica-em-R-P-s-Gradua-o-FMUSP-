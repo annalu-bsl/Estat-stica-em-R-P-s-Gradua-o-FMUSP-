{
 "cells": [
  {
   "cell_type": "code",
   "execution_count": 5,
   "metadata": {},
   "outputs": [
    {
     "data": {
      "text/html": [
       "FALSE"
      ],
      "text/latex": [
       "FALSE"
      ],
      "text/markdown": [
       "FALSE"
      ],
      "text/plain": [
       "[1] FALSE"
      ]
     },
     "metadata": {},
     "output_type": "display_data"
    }
   ],
   "source": [
    "TRUE & FALSE"
   ]
  },
  {
   "cell_type": "code",
   "execution_count": 6,
   "metadata": {},
   "outputs": [
    {
     "data": {
      "text/html": [
       "TRUE"
      ],
      "text/latex": [
       "TRUE"
      ],
      "text/markdown": [
       "TRUE"
      ],
      "text/plain": [
       "[1] TRUE"
      ]
     },
     "metadata": {},
     "output_type": "display_data"
    }
   ],
   "source": [
    "TRUE | FALSE"
   ]
  },
  {
   "cell_type": "code",
   "execution_count": 7,
   "metadata": {},
   "outputs": [
    {
     "data": {
      "text/html": [
       "800"
      ],
      "text/latex": [
       "800"
      ],
      "text/markdown": [
       "800"
      ],
      "text/plain": [
       "[1] 800"
      ]
     },
     "metadata": {},
     "output_type": "display_data"
    }
   ],
   "source": [
    "x <- 4\n",
    "y <- 200\n",
    "x*y"
   ]
  },
  {
   "cell_type": "code",
   "execution_count": 8,
   "metadata": {},
   "outputs": [
    {
     "data": {
      "text/html": [
       "'double'"
      ],
      "text/latex": [
       "'double'"
      ],
      "text/markdown": [
       "'double'"
      ],
      "text/plain": [
       "[1] \"double\""
      ]
     },
     "metadata": {},
     "output_type": "display_data"
    }
   ],
   "source": [
    "typeof(x)"
   ]
  },
  {
   "cell_type": "code",
   "execution_count": 9,
   "metadata": {},
   "outputs": [],
   "source": [
    "n = c(2, 3, 5) \n",
    "s = c(\"aa\", \"bb\", \"cc\") \n",
    "b = c(TRUE, FALSE, TRUE) \n",
    "df = data.frame(n, s, b) "
   ]
  },
  {
   "cell_type": "code",
   "execution_count": 10,
   "metadata": {},
   "outputs": [
    {
     "data": {
      "text/html": [
       "<table>\n",
       "<thead><tr><th scope=col>n</th><th scope=col>s</th><th scope=col>b</th></tr></thead>\n",
       "<tbody>\n",
       "\t<tr><td>2    </td><td>aa   </td><td> TRUE</td></tr>\n",
       "\t<tr><td>3    </td><td>bb   </td><td>FALSE</td></tr>\n",
       "\t<tr><td>5    </td><td>cc   </td><td> TRUE</td></tr>\n",
       "</tbody>\n",
       "</table>\n"
      ],
      "text/latex": [
       "\\begin{tabular}{r|lll}\n",
       " n & s & b\\\\\n",
       "\\hline\n",
       "\t 2     & aa    &  TRUE\\\\\n",
       "\t 3     & bb    & FALSE\\\\\n",
       "\t 5     & cc    &  TRUE\\\\\n",
       "\\end{tabular}\n"
      ],
      "text/markdown": [
       "\n",
       "| n | s | b |\n",
       "|---|---|---|\n",
       "| 2     | aa    |  TRUE |\n",
       "| 3     | bb    | FALSE |\n",
       "| 5     | cc    |  TRUE |\n",
       "\n"
      ],
      "text/plain": [
       "  n s  b    \n",
       "1 2 aa  TRUE\n",
       "2 3 bb FALSE\n",
       "3 5 cc  TRUE"
      ]
     },
     "metadata": {},
     "output_type": "display_data"
    }
   ],
   "source": [
    "df"
   ]
  },
  {
   "cell_type": "code",
   "execution_count": 14,
   "metadata": {},
   "outputs": [
    {
     "data": {
      "text/html": [
       "<ol class=list-inline>\n",
       "\t<li>1</li>\n",
       "\t<li>2</li>\n",
       "\t<li>3</li>\n",
       "\t<li>4</li>\n",
       "\t<li>5</li>\n",
       "</ol>\n"
      ],
      "text/latex": [
       "\\begin{enumerate*}\n",
       "\\item 1\n",
       "\\item 2\n",
       "\\item 3\n",
       "\\item 4\n",
       "\\item 5\n",
       "\\end{enumerate*}\n"
      ],
      "text/markdown": [
       "1. 1\n",
       "2. 2\n",
       "3. 3\n",
       "4. 4\n",
       "5. 5\n",
       "\n",
       "\n"
      ],
      "text/plain": [
       "[1] 1 2 3 4 5"
      ]
     },
     "metadata": {},
     "output_type": "display_data"
    },
    {
     "data": {
      "text/html": [
       "<ol class=list-inline>\n",
       "\t<li>'1'</li>\n",
       "\t<li>'2'</li>\n",
       "\t<li>'3'</li>\n",
       "</ol>\n"
      ],
      "text/latex": [
       "\\begin{enumerate*}\n",
       "\\item '1'\n",
       "\\item '2'\n",
       "\\item '3'\n",
       "\\end{enumerate*}\n"
      ],
      "text/markdown": [
       "1. '1'\n",
       "2. '2'\n",
       "3. '3'\n",
       "\n",
       "\n"
      ],
      "text/plain": [
       "[1] \"1\" \"2\" \"3\""
      ]
     },
     "metadata": {},
     "output_type": "display_data"
    },
    {
     "data": {
      "text/html": [
       "'character'"
      ],
      "text/latex": [
       "'character'"
      ],
      "text/markdown": [
       "'character'"
      ],
      "text/plain": [
       "[1] \"character\""
      ]
     },
     "metadata": {},
     "output_type": "display_data"
    }
   ],
   "source": [
    "c(1, 2, 3, 4, 5)\n",
    "c(\"1\", \"2\", \"3\")\n",
    "typeof(c(\"1\", \"2\", \"3\"))"
   ]
  },
  {
   "cell_type": "code",
   "execution_count": 27,
   "metadata": {},
   "outputs": [
    {
     "data": {
      "text/html": [
       "<ol class=list-inline>\n",
       "\t<li>'TRUE'</li>\n",
       "\t<li>'FALSE'</li>\n",
       "\t<li>'TRUE'</li>\n",
       "</ol>\n"
      ],
      "text/latex": [
       "\\begin{enumerate*}\n",
       "\\item 'TRUE'\n",
       "\\item 'FALSE'\n",
       "\\item 'TRUE'\n",
       "\\end{enumerate*}\n"
      ],
      "text/markdown": [
       "1. 'TRUE'\n",
       "2. 'FALSE'\n",
       "3. 'TRUE'\n",
       "\n",
       "\n"
      ],
      "text/plain": [
       "[1] \"TRUE\"  \"FALSE\" \"TRUE\" "
      ]
     },
     "metadata": {},
     "output_type": "display_data"
    },
    {
     "data": {
      "text/html": [
       "<ol class=list-inline>\n",
       "\t<li>1</li>\n",
       "\t<li>2</li>\n",
       "\t<li>3.4</li>\n",
       "\t<li>0</li>\n",
       "</ol>\n"
      ],
      "text/latex": [
       "\\begin{enumerate*}\n",
       "\\item 1\n",
       "\\item 2\n",
       "\\item 3.4\n",
       "\\item 0\n",
       "\\end{enumerate*}\n"
      ],
      "text/markdown": [
       "1. 1\n",
       "2. 2\n",
       "3. 3.4\n",
       "4. 0\n",
       "\n",
       "\n"
      ],
      "text/plain": [
       "[1] 1.0 2.0 3.4 0.0"
      ]
     },
     "metadata": {},
     "output_type": "display_data"
    }
   ],
   "source": [
    "w <- c(\"TRUE\", \"FALSE\", \"TRUE\")\n",
    "v <- c(TRUE,2,3.4, FALSE)\n",
    "w\n",
    "v"
   ]
  },
  {
   "cell_type": "code",
   "execution_count": 23,
   "metadata": {},
   "outputs": [
    {
     "data": {
      "text/html": [
       "<ol class=list-inline>\n",
       "\t<li>'4'</li>\n",
       "\t<li>'beta'</li>\n",
       "\t<li>'TRUE'</li>\n",
       "</ol>\n"
      ],
      "text/latex": [
       "\\begin{enumerate*}\n",
       "\\item '4'\n",
       "\\item 'beta'\n",
       "\\item 'TRUE'\n",
       "\\end{enumerate*}\n"
      ],
      "text/markdown": [
       "1. '4'\n",
       "2. 'beta'\n",
       "3. 'TRUE'\n",
       "\n",
       "\n"
      ],
      "text/plain": [
       "[1] \"4\"    \"beta\" \"TRUE\""
      ]
     },
     "metadata": {},
     "output_type": "display_data"
    }
   ],
   "source": [
    "t <- c(4, \"beta\", TRUE) \n",
    "t"
   ]
  },
  {
   "cell_type": "code",
   "execution_count": 31,
   "metadata": {},
   "outputs": [
    {
     "data": {
      "text/html": [
       "<ol class=list-inline>\n",
       "\t<li>2</li>\n",
       "\t<li>3</li>\n",
       "\t<li>4</li>\n",
       "\t<li>5</li>\n",
       "\t<li>6</li>\n",
       "</ol>\n"
      ],
      "text/latex": [
       "\\begin{enumerate*}\n",
       "\\item 2\n",
       "\\item 3\n",
       "\\item 4\n",
       "\\item 5\n",
       "\\item 6\n",
       "\\end{enumerate*}\n"
      ],
      "text/markdown": [
       "1. 2\n",
       "2. 3\n",
       "3. 4\n",
       "4. 5\n",
       "5. 6\n",
       "\n",
       "\n"
      ],
      "text/plain": [
       "[1] 2 3 4 5 6"
      ]
     },
     "metadata": {},
     "output_type": "display_data"
    },
    {
     "data": {
      "text/html": [
       "<ol class=list-inline>\n",
       "\t<li>2</li>\n",
       "\t<li>3</li>\n",
       "\t<li>4</li>\n",
       "\t<li>5</li>\n",
       "\t<li>6</li>\n",
       "\t<li>10</li>\n",
       "\t<li>11</li>\n",
       "</ol>\n"
      ],
      "text/latex": [
       "\\begin{enumerate*}\n",
       "\\item 2\n",
       "\\item 3\n",
       "\\item 4\n",
       "\\item 5\n",
       "\\item 6\n",
       "\\item 10\n",
       "\\item 11\n",
       "\\end{enumerate*}\n"
      ],
      "text/markdown": [
       "1. 2\n",
       "2. 3\n",
       "3. 4\n",
       "4. 5\n",
       "5. 6\n",
       "6. 10\n",
       "7. 11\n",
       "\n",
       "\n"
      ],
      "text/plain": [
       "[1]  2  3  4  5  6 10 11"
      ]
     },
     "metadata": {},
     "output_type": "display_data"
    }
   ],
   "source": [
    "x <- c(2,3,4,5,6)\n",
    "y <- c(x,10,11)\n",
    "x\n",
    "y"
   ]
  },
  {
   "cell_type": "code",
   "execution_count": 34,
   "metadata": {},
   "outputs": [
    {
     "data": {
      "text/html": [
       "5"
      ],
      "text/latex": [
       "5"
      ],
      "text/markdown": [
       "5"
      ],
      "text/plain": [
       "[1] 5"
      ]
     },
     "metadata": {},
     "output_type": "display_data"
    },
    {
     "data": {
      "text/html": [
       "4"
      ],
      "text/latex": [
       "4"
      ],
      "text/markdown": [
       "4"
      ],
      "text/plain": [
       "[1] 4"
      ]
     },
     "metadata": {},
     "output_type": "display_data"
    },
    {
     "data": {
      "text/html": [
       "3"
      ],
      "text/latex": [
       "3"
      ],
      "text/markdown": [
       "3"
      ],
      "text/plain": [
       "[1] 3"
      ]
     },
     "metadata": {},
     "output_type": "display_data"
    },
    {
     "name": "stderr",
     "output_type": "stream",
     "text": [
      "Warning message in mean.default(w):\n",
      "“argument is not numeric or logical: returning NA”"
     ]
    },
    {
     "data": {
      "text/html": [
       "&lt;NA&gt;"
      ],
      "text/latex": [
       "<NA>"
      ],
      "text/markdown": [
       "&lt;NA&gt;"
      ],
      "text/plain": [
       "[1] NA"
      ]
     },
     "metadata": {},
     "output_type": "display_data"
    }
   ],
   "source": [
    "length(x)\n",
    "mean(x)\n",
    "length(w)\n",
    "mean(w)"
   ]
  },
  {
   "cell_type": "code",
   "execution_count": 40,
   "metadata": {},
   "outputs": [
    {
     "data": {
      "text/html": [
       "<ol class=list-inline>\n",
       "\t<li>'Anna'</li>\n",
       "\t<li>'Augusto'</li>\n",
       "\t<li>'Juliana'</li>\n",
       "</ol>\n"
      ],
      "text/latex": [
       "\\begin{enumerate*}\n",
       "\\item 'Anna'\n",
       "\\item 'Augusto'\n",
       "\\item 'Juliana'\n",
       "\\end{enumerate*}\n"
      ],
      "text/markdown": [
       "1. 'Anna'\n",
       "2. 'Augusto'\n",
       "3. 'Juliana'\n",
       "\n",
       "\n"
      ],
      "text/plain": [
       "[1] \"Anna\"    \"Augusto\" \"Juliana\""
      ]
     },
     "metadata": {},
     "output_type": "display_data"
    },
    {
     "data": {
      "text/html": [
       "<ol class=list-inline>\n",
       "\t<li>'Vinagre'</li>\n",
       "\t<li>'Miura'</li>\n",
       "\t<li>'Victor'</li>\n",
       "\t<li>'Beatriz'</li>\n",
       "</ol>\n"
      ],
      "text/latex": [
       "\\begin{enumerate*}\n",
       "\\item 'Vinagre'\n",
       "\\item 'Miura'\n",
       "\\item 'Victor'\n",
       "\\item 'Beatriz'\n",
       "\\end{enumerate*}\n"
      ],
      "text/markdown": [
       "1. 'Vinagre'\n",
       "2. 'Miura'\n",
       "3. 'Victor'\n",
       "4. 'Beatriz'\n",
       "\n",
       "\n"
      ],
      "text/plain": [
       "[1] \"Vinagre\" \"Miura\"   \"Victor\"  \"Beatriz\""
      ]
     },
     "metadata": {},
     "output_type": "display_data"
    }
   ],
   "source": [
    "familia <- c(\"Anna\", \"Augusto\", \"Juliana\")\n",
    "amigos <- c(\"Vinagre\", \"Miura\", \"Victor\", \"Beatriz\")\n",
    "familia\n",
    "amigos"
   ]
  },
  {
   "cell_type": "code",
   "execution_count": 43,
   "metadata": {},
   "outputs": [
    {
     "data": {
      "text/html": [
       "<ol class=list-inline>\n",
       "\t<li>1</li>\n",
       "\t<li>2</li>\n",
       "\t<li>3</li>\n",
       "\t<li>4</li>\n",
       "\t<li>5</li>\n",
       "\t<li>6</li>\n",
       "</ol>\n"
      ],
      "text/latex": [
       "\\begin{enumerate*}\n",
       "\\item 1\n",
       "\\item 2\n",
       "\\item 3\n",
       "\\item 4\n",
       "\\item 5\n",
       "\\item 6\n",
       "\\end{enumerate*}\n"
      ],
      "text/markdown": [
       "1. 1\n",
       "2. 2\n",
       "3. 3\n",
       "4. 4\n",
       "5. 5\n",
       "6. 6\n",
       "\n",
       "\n"
      ],
      "text/plain": [
       "[1] 1 2 3 4 5 6"
      ]
     },
     "metadata": {},
     "output_type": "display_data"
    },
    {
     "data": {
      "text/html": [
       "<ol class=list-inline>\n",
       "\t<li>TRUE</li>\n",
       "\t<li>TRUE</li>\n",
       "\t<li>TRUE</li>\n",
       "\t<li>FALSE</li>\n",
       "\t<li>FALSE</li>\n",
       "\t<li>FALSE</li>\n",
       "</ol>\n"
      ],
      "text/latex": [
       "\\begin{enumerate*}\n",
       "\\item TRUE\n",
       "\\item TRUE\n",
       "\\item TRUE\n",
       "\\item FALSE\n",
       "\\item FALSE\n",
       "\\item FALSE\n",
       "\\end{enumerate*}\n"
      ],
      "text/markdown": [
       "1. TRUE\n",
       "2. TRUE\n",
       "3. TRUE\n",
       "4. FALSE\n",
       "5. FALSE\n",
       "6. FALSE\n",
       "\n",
       "\n"
      ],
      "text/plain": [
       "[1]  TRUE  TRUE  TRUE FALSE FALSE FALSE"
      ]
     },
     "metadata": {},
     "output_type": "display_data"
    },
    {
     "data": {
      "text/html": [
       "<ol class=list-inline>\n",
       "\t<li>TRUE</li>\n",
       "\t<li>TRUE</li>\n",
       "\t<li>TRUE</li>\n",
       "\t<li>FALSE</li>\n",
       "\t<li>FALSE</li>\n",
       "\t<li>FALSE</li>\n",
       "</ol>\n"
      ],
      "text/latex": [
       "\\begin{enumerate*}\n",
       "\\item TRUE\n",
       "\\item TRUE\n",
       "\\item TRUE\n",
       "\\item FALSE\n",
       "\\item FALSE\n",
       "\\item FALSE\n",
       "\\end{enumerate*}\n"
      ],
      "text/markdown": [
       "1. TRUE\n",
       "2. TRUE\n",
       "3. TRUE\n",
       "4. FALSE\n",
       "5. FALSE\n",
       "6. FALSE\n",
       "\n",
       "\n"
      ],
      "text/plain": [
       "[1]  TRUE  TRUE  TRUE FALSE FALSE FALSE"
      ]
     },
     "metadata": {},
     "output_type": "display_data"
    }
   ],
   "source": [
    "x <- 1:6\n",
    "x\n",
    "x < 4\n",
    "x < mean(x)"
   ]
  },
  {
   "cell_type": "code",
   "execution_count": 45,
   "metadata": {},
   "outputs": [
    {
     "data": {
      "text/html": [
       "<dl class=dl-horizontal>\n",
       "\t<dt>São Paulo</dt>\n",
       "\t\t<dd>7</dd>\n",
       "\t<dt>Ceará</dt>\n",
       "\t\t<dd>9</dd>\n",
       "\t<dt>Pernambuco</dt>\n",
       "\t\t<dd>12</dd>\n",
       "</dl>\n"
      ],
      "text/latex": [
       "\\begin{description*}\n",
       "\\item[São Paulo] 7\n",
       "\\item[Ceará] 9\n",
       "\\item[Pernambuco] 12\n",
       "\\end{description*}\n"
      ],
      "text/markdown": [
       "São Paulo\n",
       ":   7Ceará\n",
       ":   9Pernambuco\n",
       ":   12\n",
       "\n"
      ],
      "text/plain": [
       " São Paulo      Ceará Pernambuco \n",
       "         7          9         12 "
      ]
     },
     "metadata": {},
     "output_type": "display_data"
    }
   ],
   "source": [
    "x <- c(7, 9, 12)\n",
    "names(x) <- c(\"São Paulo\", \"Ceará\", \"Pernambuco\")\n",
    "x"
   ]
  },
  {
   "cell_type": "code",
   "execution_count": 51,
   "metadata": {},
   "outputs": [
    {
     "data": {
      "text/html": [
       "'a'"
      ],
      "text/latex": [
       "'a'"
      ],
      "text/markdown": [
       "'a'"
      ],
      "text/plain": [
       "[1] \"a\""
      ]
     },
     "metadata": {},
     "output_type": "display_data"
    },
    {
     "data": {
      "text/html": [
       "<ol class=list-inline>\n",
       "\t<li>'a'</li>\n",
       "\t<li>'b'</li>\n",
       "\t<li>'c'</li>\n",
       "</ol>\n"
      ],
      "text/latex": [
       "\\begin{enumerate*}\n",
       "\\item 'a'\n",
       "\\item 'b'\n",
       "\\item 'c'\n",
       "\\end{enumerate*}\n"
      ],
      "text/markdown": [
       "1. 'a'\n",
       "2. 'b'\n",
       "3. 'c'\n",
       "\n",
       "\n"
      ],
      "text/plain": [
       "[1] \"a\" \"b\" \"c\""
      ]
     },
     "metadata": {},
     "output_type": "display_data"
    },
    {
     "data": {
      "text/html": [
       "<ol class=list-inline>\n",
       "\t<li>'e'</li>\n",
       "\t<li>'a'</li>\n",
       "</ol>\n"
      ],
      "text/latex": [
       "\\begin{enumerate*}\n",
       "\\item 'e'\n",
       "\\item 'a'\n",
       "\\end{enumerate*}\n"
      ],
      "text/markdown": [
       "1. 'e'\n",
       "2. 'a'\n",
       "\n",
       "\n"
      ],
      "text/plain": [
       "[1] \"e\" \"a\""
      ]
     },
     "metadata": {},
     "output_type": "display_data"
    }
   ],
   "source": [
    "x <- c(\"a\", \"b\", \"c\", \"d\", \"e\")\n",
    "x[1] #primeira posição do vetor\n",
    "x[1:3]\n",
    "x[c(5,1)]"
   ]
  },
  {
   "cell_type": "code",
   "execution_count": 56,
   "metadata": {},
   "outputs": [
    {
     "data": {
      "text/html": [
       "<ol class=list-inline>\n",
       "\t<li>FALSE</li>\n",
       "\t<li>FALSE</li>\n",
       "\t<li>FALSE</li>\n",
       "\t<li>TRUE</li>\n",
       "\t<li>TRUE</li>\n",
       "</ol>\n"
      ],
      "text/latex": [
       "\\begin{enumerate*}\n",
       "\\item FALSE\n",
       "\\item FALSE\n",
       "\\item FALSE\n",
       "\\item TRUE\n",
       "\\item TRUE\n",
       "\\end{enumerate*}\n"
      ],
      "text/markdown": [
       "1. FALSE\n",
       "2. FALSE\n",
       "3. FALSE\n",
       "4. TRUE\n",
       "5. TRUE\n",
       "\n",
       "\n"
      ],
      "text/plain": [
       "[1] FALSE FALSE FALSE  TRUE  TRUE"
      ]
     },
     "metadata": {},
     "output_type": "display_data"
    },
    {
     "data": {
      "text/html": [
       "<ol class=list-inline>\n",
       "\t<li>'d'</li>\n",
       "\t<li>'e'</li>\n",
       "</ol>\n"
      ],
      "text/latex": [
       "\\begin{enumerate*}\n",
       "\\item 'd'\n",
       "\\item 'e'\n",
       "\\end{enumerate*}\n"
      ],
      "text/markdown": [
       "1. 'd'\n",
       "2. 'e'\n",
       "\n",
       "\n"
      ],
      "text/plain": [
       "[1] \"d\" \"e\""
      ]
     },
     "metadata": {},
     "output_type": "display_data"
    },
    {
     "data": {
      "text/html": [
       "<ol class=list-inline>\n",
       "\t<li>'d'</li>\n",
       "\t<li>'e'</li>\n",
       "</ol>\n"
      ],
      "text/latex": [
       "\\begin{enumerate*}\n",
       "\\item 'd'\n",
       "\\item 'e'\n",
       "\\end{enumerate*}\n"
      ],
      "text/markdown": [
       "1. 'd'\n",
       "2. 'e'\n",
       "\n",
       "\n"
      ],
      "text/plain": [
       "[1] \"d\" \"e\""
      ]
     },
     "metadata": {},
     "output_type": "display_data"
    }
   ],
   "source": [
    "x > \"c\"\n",
    "x[c(FALSE, FALSE, FALSE, TRUE, TRUE)]\n",
    "x[x > \"c\"]"
   ]
  },
  {
   "cell_type": "code",
   "execution_count": 60,
   "metadata": {},
   "outputs": [
    {
     "data": {
      "text/html": [
       "<ol class=list-inline>\n",
       "\t<li>FALSE</li>\n",
       "\t<li>FALSE</li>\n",
       "\t<li>TRUE</li>\n",
       "\t<li>TRUE</li>\n",
       "\t<li>TRUE</li>\n",
       "\t<li>TRUE</li>\n",
       "\t<li>TRUE</li>\n",
       "\t<li>TRUE</li>\n",
       "</ol>\n"
      ],
      "text/latex": [
       "\\begin{enumerate*}\n",
       "\\item FALSE\n",
       "\\item FALSE\n",
       "\\item TRUE\n",
       "\\item TRUE\n",
       "\\item TRUE\n",
       "\\item TRUE\n",
       "\\item TRUE\n",
       "\\item TRUE\n",
       "\\end{enumerate*}\n"
      ],
      "text/markdown": [
       "1. FALSE\n",
       "2. FALSE\n",
       "3. TRUE\n",
       "4. TRUE\n",
       "5. TRUE\n",
       "6. TRUE\n",
       "7. TRUE\n",
       "8. TRUE\n",
       "\n",
       "\n"
      ],
      "text/plain": [
       "[1] FALSE FALSE  TRUE  TRUE  TRUE  TRUE  TRUE  TRUE"
      ]
     },
     "metadata": {},
     "output_type": "display_data"
    },
    {
     "data": {
      "text/html": [
       "<ol class=list-inline>\n",
       "\t<li>FALSE</li>\n",
       "\t<li>FALSE</li>\n",
       "\t<li>FALSE</li>\n",
       "\t<li>FALSE</li>\n",
       "\t<li>FALSE</li>\n",
       "\t<li>TRUE</li>\n",
       "\t<li>TRUE</li>\n",
       "\t<li>TRUE</li>\n",
       "</ol>\n"
      ],
      "text/latex": [
       "\\begin{enumerate*}\n",
       "\\item FALSE\n",
       "\\item FALSE\n",
       "\\item FALSE\n",
       "\\item FALSE\n",
       "\\item FALSE\n",
       "\\item TRUE\n",
       "\\item TRUE\n",
       "\\item TRUE\n",
       "\\end{enumerate*}\n"
      ],
      "text/markdown": [
       "1. FALSE\n",
       "2. FALSE\n",
       "3. FALSE\n",
       "4. FALSE\n",
       "5. FALSE\n",
       "6. TRUE\n",
       "7. TRUE\n",
       "8. TRUE\n",
       "\n",
       "\n"
      ],
      "text/plain": [
       "[1] FALSE FALSE FALSE FALSE FALSE  TRUE  TRUE  TRUE"
      ]
     },
     "metadata": {},
     "output_type": "display_data"
    },
    {
     "data": {
      "text/html": [
       "<ol class=list-inline>\n",
       "\t<li>0</li>\n",
       "\t<li>1</li>\n",
       "\t<li>2</li>\n",
       "</ol>\n"
      ],
      "text/latex": [
       "\\begin{enumerate*}\n",
       "\\item 0\n",
       "\\item 1\n",
       "\\item 2\n",
       "\\end{enumerate*}\n"
      ],
      "text/markdown": [
       "1. 0\n",
       "2. 1\n",
       "3. 2\n",
       "\n",
       "\n"
      ],
      "text/plain": [
       "[1] 0 1 2"
      ]
     },
     "metadata": {},
     "output_type": "display_data"
    },
    {
     "data": {
      "text/html": [
       "<ol class=list-inline>\n",
       "\t<li>0</li>\n",
       "\t<li>1</li>\n",
       "\t<li>2</li>\n",
       "</ol>\n"
      ],
      "text/latex": [
       "\\begin{enumerate*}\n",
       "\\item 0\n",
       "\\item 1\n",
       "\\item 2\n",
       "\\end{enumerate*}\n"
      ],
      "text/markdown": [
       "1. 0\n",
       "2. 1\n",
       "3. 2\n",
       "\n",
       "\n"
      ],
      "text/plain": [
       "[1] 0 1 2"
      ]
     },
     "metadata": {},
     "output_type": "display_data"
    }
   ],
   "source": [
    "x <- c(-2, -1, 0, 1, 2, 3, 4, 5)\n",
    "x >= 0\n",
    "x >= 0 & x >= 3\n",
    "x[ x>=0 & x<3]\n",
    "y <- x[ x>=0 & x<3]\n",
    "y"
   ]
  },
  {
   "cell_type": "code",
   "execution_count": 63,
   "metadata": {},
   "outputs": [
    {
     "data": {
      "text/html": [
       "<ol class=list-inline>\n",
       "\t<li>'Anna'</li>\n",
       "\t<li>'Augusto'</li>\n",
       "\t<li>'Juliana'</li>\n",
       "\t<li>'Vinagre'</li>\n",
       "\t<li>'Victor'</li>\n",
       "</ol>\n"
      ],
      "text/latex": [
       "\\begin{enumerate*}\n",
       "\\item 'Anna'\n",
       "\\item 'Augusto'\n",
       "\\item 'Juliana'\n",
       "\\item 'Vinagre'\n",
       "\\item 'Victor'\n",
       "\\end{enumerate*}\n"
      ],
      "text/markdown": [
       "1. 'Anna'\n",
       "2. 'Augusto'\n",
       "3. 'Juliana'\n",
       "4. 'Vinagre'\n",
       "5. 'Victor'\n",
       "\n",
       "\n"
      ],
      "text/plain": [
       "[1] \"Anna\"    \"Augusto\" \"Juliana\" \"Vinagre\" \"Victor\" "
      ]
     },
     "metadata": {},
     "output_type": "display_data"
    }
   ],
   "source": [
    "favoritos <- c(familia[1:3], amigos[c(1, 3)]) \n",
    "favoritos"
   ]
  },
  {
   "cell_type": "code",
   "execution_count": 74,
   "metadata": {},
   "outputs": [
    {
     "data": {
      "text/html": [
       "<ol class=list-inline>\n",
       "\t<li>'b'</li>\n",
       "\t<li>'a'</li>\n",
       "\t<li>'b'</li>\n",
       "\t<li>'a'</li>\n",
       "</ol>\n"
      ],
      "text/latex": [
       "\\begin{enumerate*}\n",
       "\\item 'b'\n",
       "\\item 'a'\n",
       "\\item 'b'\n",
       "\\item 'a'\n",
       "\\end{enumerate*}\n"
      ],
      "text/markdown": [
       "1. 'b'\n",
       "2. 'a'\n",
       "3. 'b'\n",
       "4. 'a'\n",
       "\n",
       "\n"
      ],
      "text/plain": [
       "[1] \"b\" \"a\" \"b\" \"a\""
      ]
     },
     "metadata": {},
     "output_type": "display_data"
    },
    {
     "data": {
      "text/html": [
       "<ol class=list-inline>\n",
       "\t<li>'b'</li>\n",
       "\t<li>'a'</li>\n",
       "\t<li>'b'</li>\n",
       "\t<li>'a'</li>\n",
       "</ol>\n"
      ],
      "text/latex": [
       "\\begin{enumerate*}\n",
       "\\item 'b'\n",
       "\\item 'a'\n",
       "\\item 'b'\n",
       "\\item 'a'\n",
       "\\end{enumerate*}\n"
      ],
      "text/markdown": [
       "1. 'b'\n",
       "2. 'a'\n",
       "3. 'b'\n",
       "4. 'a'\n",
       "\n",
       "\n"
      ],
      "text/plain": [
       "[1] \"b\" \"a\" \"b\" \"a\""
      ]
     },
     "metadata": {},
     "output_type": "display_data"
    },
    {
     "data": {
      "text/html": [
       "<ol class=list-inline>\n",
       "\t<li>'b'</li>\n",
       "\t<li>'b'</li>\n",
       "\t<li>'a'</li>\n",
       "</ol>\n"
      ],
      "text/latex": [
       "\\begin{enumerate*}\n",
       "\\item 'b'\n",
       "\\item 'b'\n",
       "\\item 'a'\n",
       "\\end{enumerate*}\n"
      ],
      "text/markdown": [
       "1. 'b'\n",
       "2. 'b'\n",
       "3. 'a'\n",
       "\n",
       "\n"
      ],
      "text/plain": [
       "[1] \"b\" \"b\" \"a\""
      ]
     },
     "metadata": {},
     "output_type": "display_data"
    },
    {
     "data": {
      "text/html": [
       "<ol class=list-inline>\n",
       "\t<li>'b'</li>\n",
       "\t<li>'a'</li>\n",
       "</ol>\n"
      ],
      "text/latex": [
       "\\begin{enumerate*}\n",
       "\\item 'b'\n",
       "\\item 'a'\n",
       "\\end{enumerate*}\n"
      ],
      "text/markdown": [
       "1. 'b'\n",
       "2. 'a'\n",
       "\n",
       "\n"
      ],
      "text/plain": [
       "[1] \"b\" \"a\""
      ]
     },
     "metadata": {},
     "output_type": "display_data"
    }
   ],
   "source": [
    "y <- c(\"a\", \"b\", \"a\", \"b\", \"a\") \n",
    "y [-1]\n",
    "y[2:length(y)]\n",
    "y[c(-1,-3)]\n",
    "y <- y[-1 : -3] \n",
    "y"
   ]
  },
  {
   "cell_type": "code",
   "execution_count": 80,
   "metadata": {},
   "outputs": [
    {
     "data": {
      "text/html": [
       "<ol class=list-inline>\n",
       "\t<li>-1.20706574938542</li>\n",
       "\t<li>0.27742924211066</li>\n",
       "\t<li>1.08444117668306</li>\n",
       "\t<li>-2.34569770262935</li>\n",
       "\t<li>0.42912468881105</li>\n",
       "</ol>\n"
      ],
      "text/latex": [
       "\\begin{enumerate*}\n",
       "\\item -1.20706574938542\n",
       "\\item 0.27742924211066\n",
       "\\item 1.08444117668306\n",
       "\\item -2.34569770262935\n",
       "\\item 0.42912468881105\n",
       "\\end{enumerate*}\n"
      ],
      "text/markdown": [
       "1. -1.20706574938542\n",
       "2. 0.27742924211066\n",
       "3. 1.08444117668306\n",
       "4. -2.34569770262935\n",
       "5. 0.42912468881105\n",
       "\n",
       "\n"
      ],
      "text/plain": [
       "[1] -1.2070657  0.2774292  1.0844412 -2.3456977  0.4291247"
      ]
     },
     "metadata": {},
     "output_type": "display_data"
    },
    {
     "data": {
      "text/html": [
       "<ol class=list-inline>\n",
       "\t<li>1.00605589215757</li>\n",
       "\t<li>-0.0747399601346488</li>\n",
       "\t<li>-0.046631855784187</li>\n",
       "\t<li>-0.064451999093283</li>\n",
       "\t<li>-0.390037829044104</li>\n",
       "\t<li>0.022807300246453</li>\n",
       "\t<li>-0.498386444859704</li>\n",
       "\t<li>-0.27625389463799</li>\n",
       "\t<li>0.564458817276269</li>\n",
       "\t<li>1.45949405897077</li>\n",
       "\t<li>0.389714505609226</li>\n",
       "\t<li>-0.0110095058066422</li>\n",
       "\t<li>-0.411195416629811</li>\n",
       "\t<li>-0.33717168026894</li>\n",
       "\t<li>2.91583517848934</li>\n",
       "\t<li>0.634088220152031</li>\n",
       "\t<li>0.00931410330905719</li>\n",
       "\t<li>0.0594521276467729</li>\n",
       "\t<li>0.959589441005854</li>\n",
       "\t<li>-0.193720246937475</li>\n",
       "</ol>\n"
      ],
      "text/latex": [
       "\\begin{enumerate*}\n",
       "\\item 1.00605589215757\n",
       "\\item -0.0747399601346488\n",
       "\\item -0.046631855784187\n",
       "\\item -0.064451999093283\n",
       "\\item -0.390037829044104\n",
       "\\item 0.022807300246453\n",
       "\\item -0.498386444859704\n",
       "\\item -0.27625389463799\n",
       "\\item 0.564458817276269\n",
       "\\item 1.45949405897077\n",
       "\\item 0.389714505609226\n",
       "\\item -0.0110095058066422\n",
       "\\item -0.411195416629811\n",
       "\\item -0.33717168026894\n",
       "\\item 2.91583517848934\n",
       "\\item 0.634088220152031\n",
       "\\item 0.00931410330905719\n",
       "\\item 0.0594521276467729\n",
       "\\item 0.959589441005854\n",
       "\\item -0.193720246937475\n",
       "\\end{enumerate*}\n"
      ],
      "text/markdown": [
       "1. 1.00605589215757\n",
       "2. -0.0747399601346488\n",
       "3. -0.046631855784187\n",
       "4. -0.064451999093283\n",
       "5. -0.390037829044104\n",
       "6. 0.022807300246453\n",
       "7. -0.498386444859704\n",
       "8. -0.27625389463799\n",
       "9. 0.564458817276269\n",
       "10. 1.45949405897077\n",
       "11. 0.389714505609226\n",
       "12. -0.0110095058066422\n",
       "13. -0.411195416629811\n",
       "14. -0.33717168026894\n",
       "15. 2.91583517848934\n",
       "16. 0.634088220152031\n",
       "17. 0.00931410330905719\n",
       "18. 0.0594521276467729\n",
       "19. 0.959589441005854\n",
       "20. -0.193720246937475\n",
       "\n",
       "\n"
      ],
      "text/plain": [
       " [1]  1.006055892 -0.074739960 -0.046631856 -0.064451999 -0.390037829\n",
       " [6]  0.022807300 -0.498386445 -0.276253895  0.564458817  1.459494059\n",
       "[11]  0.389714506 -0.011009506 -0.411195417 -0.337171680  2.915835178\n",
       "[16]  0.634088220  0.009314103  0.059452128  0.959589441 -0.193720247"
      ]
     },
     "metadata": {},
     "output_type": "display_data"
    }
   ],
   "source": [
    "set.seed (1234) #random number generator\n",
    "x1 <- rnorm(5)\n",
    "x1\n",
    "x2 <- rnorm(20, mean = 0.5)\n",
    "x2"
   ]
  },
  {
   "cell_type": "code",
   "execution_count": 86,
   "metadata": {},
   "outputs": [
    {
     "data": {
      "text/html": [
       "<ol class=list-inline>\n",
       "\t<li>-1.20706574938542</li>\n",
       "\t<li>-2.34569770262935</li>\n",
       "</ol>\n"
      ],
      "text/latex": [
       "\\begin{enumerate*}\n",
       "\\item -1.20706574938542\n",
       "\\item -2.34569770262935\n",
       "\\end{enumerate*}\n"
      ],
      "text/markdown": [
       "1. -1.20706574938542\n",
       "2. -2.34569770262935\n",
       "\n",
       "\n"
      ],
      "text/plain": [
       "[1] -1.207066 -2.345698"
      ]
     },
     "metadata": {},
     "output_type": "display_data"
    },
    {
     "data": {
      "text/html": [
       "<ol class=list-inline>\n",
       "\t<li>1.00605589215757</li>\n",
       "\t<li>1.45949405897077</li>\n",
       "\t<li>2.91583517848934</li>\n",
       "</ol>\n"
      ],
      "text/latex": [
       "\\begin{enumerate*}\n",
       "\\item 1.00605589215757\n",
       "\\item 1.45949405897077\n",
       "\\item 2.91583517848934\n",
       "\\end{enumerate*}\n"
      ],
      "text/markdown": [
       "1. 1.00605589215757\n",
       "2. 1.45949405897077\n",
       "3. 2.91583517848934\n",
       "\n",
       "\n"
      ],
      "text/plain": [
       "[1] 1.006056 1.459494 2.915835"
      ]
     },
     "metadata": {},
     "output_type": "display_data"
    },
    {
     "data": {
      "text/html": [
       "<ol class=list-inline>\n",
       "\t<li>1.00605589215757</li>\n",
       "\t<li>-0.0747399601346488</li>\n",
       "\t<li>-0.046631855784187</li>\n",
       "\t<li>-0.064451999093283</li>\n",
       "\t<li>-0.390037829044104</li>\n",
       "</ol>\n"
      ],
      "text/latex": [
       "\\begin{enumerate*}\n",
       "\\item 1.00605589215757\n",
       "\\item -0.0747399601346488\n",
       "\\item -0.046631855784187\n",
       "\\item -0.064451999093283\n",
       "\\item -0.390037829044104\n",
       "\\end{enumerate*}\n"
      ],
      "text/markdown": [
       "1. 1.00605589215757\n",
       "2. -0.0747399601346488\n",
       "3. -0.046631855784187\n",
       "4. -0.064451999093283\n",
       "5. -0.390037829044104\n",
       "\n",
       "\n"
      ],
      "text/plain": [
       "[1]  1.00605589 -0.07473996 -0.04663186 -0.06445200 -0.39003783"
      ]
     },
     "metadata": {},
     "output_type": "display_data"
    },
    {
     "data": {
      "text/html": [
       "-0.193720246937475"
      ],
      "text/latex": [
       "-0.193720246937475"
      ],
      "text/markdown": [
       "-0.193720246937475"
      ],
      "text/plain": [
       "[1] -0.1937202"
      ]
     },
     "metadata": {},
     "output_type": "display_data"
    },
    {
     "data": {
      "text/html": [
       "<ol class=list-inline>\n",
       "\t<li>1.00605589215757</li>\n",
       "\t<li>-0.0747399601346488</li>\n",
       "\t<li>-0.046631855784187</li>\n",
       "\t<li>-0.064451999093283</li>\n",
       "\t<li>0.022807300246453</li>\n",
       "\t<li>-0.498386444859704</li>\n",
       "\t<li>-0.27625389463799</li>\n",
       "\t<li>0.564458817276269</li>\n",
       "\t<li>1.45949405897077</li>\n",
       "\t<li>0.389714505609226</li>\n",
       "\t<li>-0.0110095058066422</li>\n",
       "\t<li>-0.411195416629811</li>\n",
       "\t<li>-0.33717168026894</li>\n",
       "\t<li>0.634088220152031</li>\n",
       "\t<li>0.00931410330905719</li>\n",
       "\t<li>0.0594521276467729</li>\n",
       "\t<li>0.959589441005854</li>\n",
       "\t<li>-0.193720246937475</li>\n",
       "</ol>\n"
      ],
      "text/latex": [
       "\\begin{enumerate*}\n",
       "\\item 1.00605589215757\n",
       "\\item -0.0747399601346488\n",
       "\\item -0.046631855784187\n",
       "\\item -0.064451999093283\n",
       "\\item 0.022807300246453\n",
       "\\item -0.498386444859704\n",
       "\\item -0.27625389463799\n",
       "\\item 0.564458817276269\n",
       "\\item 1.45949405897077\n",
       "\\item 0.389714505609226\n",
       "\\item -0.0110095058066422\n",
       "\\item -0.411195416629811\n",
       "\\item -0.33717168026894\n",
       "\\item 0.634088220152031\n",
       "\\item 0.00931410330905719\n",
       "\\item 0.0594521276467729\n",
       "\\item 0.959589441005854\n",
       "\\item -0.193720246937475\n",
       "\\end{enumerate*}\n"
      ],
      "text/markdown": [
       "1. 1.00605589215757\n",
       "2. -0.0747399601346488\n",
       "3. -0.046631855784187\n",
       "4. -0.064451999093283\n",
       "5. 0.022807300246453\n",
       "6. -0.498386444859704\n",
       "7. -0.27625389463799\n",
       "8. 0.564458817276269\n",
       "9. 1.45949405897077\n",
       "10. 0.389714505609226\n",
       "11. -0.0110095058066422\n",
       "12. -0.411195416629811\n",
       "13. -0.33717168026894\n",
       "14. 0.634088220152031\n",
       "15. 0.00931410330905719\n",
       "16. 0.0594521276467729\n",
       "17. 0.959589441005854\n",
       "18. -0.193720246937475\n",
       "\n",
       "\n"
      ],
      "text/plain": [
       " [1]  1.006055892 -0.074739960 -0.046631856 -0.064451999  0.022807300\n",
       " [6] -0.498386445 -0.276253895  0.564458817  1.459494059  0.389714506\n",
       "[11] -0.011009506 -0.411195417 -0.337171680  0.634088220  0.009314103\n",
       "[16]  0.059452128  0.959589441 -0.193720247"
      ]
     },
     "metadata": {},
     "output_type": "display_data"
    }
   ],
   "source": [
    "x1[x1 < 0]\n",
    "x2[x2 > 1]\n",
    "x2[1:5]\n",
    "x2[length(x2)]\n",
    "x2[c(-5, -15)]"
   ]
  },
  {
   "cell_type": "code",
   "execution_count": 95,
   "metadata": {},
   "outputs": [
    {
     "data": {
      "text/html": [
       "TRUE"
      ],
      "text/latex": [
       "TRUE"
      ],
      "text/markdown": [
       "TRUE"
      ],
      "text/plain": [
       "[1] TRUE"
      ]
     },
     "metadata": {},
     "output_type": "display_data"
    },
    {
     "data": {
      "text/html": [
       "2"
      ],
      "text/latex": [
       "2"
      ],
      "text/markdown": [
       "2"
      ],
      "text/plain": [
       "[1] 2"
      ]
     },
     "metadata": {},
     "output_type": "display_data"
    },
    {
     "data": {
      "text/html": [
       "2"
      ],
      "text/latex": [
       "2"
      ],
      "text/markdown": [
       "2"
      ],
      "text/plain": [
       "[1] 2"
      ]
     },
     "metadata": {},
     "output_type": "display_data"
    },
    {
     "data": {
      "text/html": [
       "<ol class=list-inline>\n",
       "\t<li>2</li>\n",
       "\t<li>4</li>\n",
       "\t<li>&lt;NA&gt;</li>\n",
       "</ol>\n"
      ],
      "text/latex": [
       "\\begin{enumerate*}\n",
       "\\item 2\n",
       "\\item 4\n",
       "\\item <NA>\n",
       "\\end{enumerate*}\n"
      ],
      "text/markdown": [
       "1. 2\n",
       "2. 4\n",
       "3. &lt;NA&gt;\n",
       "\n",
       "\n"
      ],
      "text/plain": [
       "[1]  2  4 NA"
      ]
     },
     "metadata": {},
     "output_type": "display_data"
    },
    {
     "data": {
      "text/html": [
       "<ol class=list-inline>\n",
       "\t<li>'w'</li>\n",
       "\t<li>'b'</li>\n",
       "\t<li>'c'</li>\n",
       "\t<li>'d'</li>\n",
       "\t<li>'e'</li>\n",
       "</ol>\n"
      ],
      "text/latex": [
       "\\begin{enumerate*}\n",
       "\\item 'w'\n",
       "\\item 'b'\n",
       "\\item 'c'\n",
       "\\item 'd'\n",
       "\\item 'e'\n",
       "\\end{enumerate*}\n"
      ],
      "text/markdown": [
       "1. 'w'\n",
       "2. 'b'\n",
       "3. 'c'\n",
       "4. 'd'\n",
       "5. 'e'\n",
       "\n",
       "\n"
      ],
      "text/plain": [
       "[1] \"w\" \"b\" \"c\" \"d\" \"e\""
      ]
     },
     "metadata": {},
     "output_type": "display_data"
    },
    {
     "data": {
      "text/html": [
       "<ol class=list-inline>\n",
       "\t<li>'w'</li>\n",
       "\t<li>'o'</li>\n",
       "\t<li>'o'</li>\n",
       "\t<li>'d'</li>\n",
       "\t<li>'e'</li>\n",
       "</ol>\n"
      ],
      "text/latex": [
       "\\begin{enumerate*}\n",
       "\\item 'w'\n",
       "\\item 'o'\n",
       "\\item 'o'\n",
       "\\item 'd'\n",
       "\\item 'e'\n",
       "\\end{enumerate*}\n"
      ],
      "text/markdown": [
       "1. 'w'\n",
       "2. 'o'\n",
       "3. 'o'\n",
       "4. 'd'\n",
       "5. 'e'\n",
       "\n",
       "\n"
      ],
      "text/plain": [
       "[1] \"w\" \"o\" \"o\" \"d\" \"e\""
      ]
     },
     "metadata": {},
     "output_type": "display_data"
    },
    {
     "data": {
      "text/html": [
       "<ol class=list-inline>\n",
       "\t<li>'w'</li>\n",
       "\t<li>'w'</li>\n",
       "\t<li>'w'</li>\n",
       "\t<li>'d'</li>\n",
       "\t<li>'e'</li>\n",
       "</ol>\n"
      ],
      "text/latex": [
       "\\begin{enumerate*}\n",
       "\\item 'w'\n",
       "\\item 'w'\n",
       "\\item 'w'\n",
       "\\item 'd'\n",
       "\\item 'e'\n",
       "\\end{enumerate*}\n"
      ],
      "text/markdown": [
       "1. 'w'\n",
       "2. 'w'\n",
       "3. 'w'\n",
       "4. 'd'\n",
       "5. 'e'\n",
       "\n",
       "\n"
      ],
      "text/plain": [
       "[1] \"w\" \"w\" \"w\" \"d\" \"e\""
      ]
     },
     "metadata": {},
     "output_type": "display_data"
    }
   ],
   "source": [
    "x <- c(\"a\", \"b\", \"c\", \"d\", \"e\")  \n",
    "y <- c(\"a\", \"b\", \"a\", \"b\", \"a\")\n",
    "'b' %in% y\n",
    "match('b', x) #devolve posição em que se encontra o caracter\n",
    "match('b', y)\n",
    "match(c('b','d','k'), x)\n",
    "x[1] <- \"w\"\n",
    "x\n",
    "x[2:3] <- c(\"o\", \"o\")\n",
    "x\n",
    "x[1:3] <- \"w\"\n",
    "x"
   ]
  },
  {
   "cell_type": "code",
   "execution_count": 96,
   "metadata": {},
   "outputs": [
    {
     "name": "stderr",
     "output_type": "stream",
     "text": [
      "Warning message in x[1:5] <- c(100, 200):\n",
      "“número de itens para para substituir não é um múltiplo do comprimento do substituto”"
     ]
    }
   ],
   "source": [
    " x <- c(1, 2, 3, 4, 5, 6, 7, 8, 9, 10, 11)\n",
    "x[1:5] <- c(100,200) #como solucionar?"
   ]
  },
  {
   "cell_type": "code",
   "execution_count": 99,
   "metadata": {},
   "outputs": [
    {
     "data": {
      "text/html": [
       "<ol class=list-inline>\n",
       "\t<li>1</li>\n",
       "\t<li>2</li>\n",
       "\t<li>3</li>\n",
       "\t<li>4</li>\n",
       "\t<li>5</li>\n",
       "\t<li>6</li>\n",
       "\t<li>7</li>\n",
       "\t<li>8</li>\n",
       "\t<li>9</li>\n",
       "\t<li>10</li>\n",
       "\t<li>11</li>\n",
       "\t<li>12</li>\n",
       "\t<li>13</li>\n",
       "\t<li>14</li>\n",
       "\t<li>15</li>\n",
       "\t<li>16</li>\n",
       "\t<li>17</li>\n",
       "\t<li>18</li>\n",
       "\t<li>19</li>\n",
       "\t<li>20</li>\n",
       "\t<li>&lt;NA&gt;</li>\n",
       "\t<li>&lt;NA&gt;</li>\n",
       "\t<li>&lt;NA&gt;</li>\n",
       "\t<li>&lt;NA&gt;</li>\n",
       "\t<li>&lt;NA&gt;</li>\n",
       "\t<li>&lt;NA&gt;</li>\n",
       "\t<li>&lt;NA&gt;</li>\n",
       "\t<li>&lt;NA&gt;</li>\n",
       "\t<li>&lt;NA&gt;</li>\n",
       "\t<li>100</li>\n",
       "</ol>\n"
      ],
      "text/latex": [
       "\\begin{enumerate*}\n",
       "\\item 1\n",
       "\\item 2\n",
       "\\item 3\n",
       "\\item 4\n",
       "\\item 5\n",
       "\\item 6\n",
       "\\item 7\n",
       "\\item 8\n",
       "\\item 9\n",
       "\\item 10\n",
       "\\item 11\n",
       "\\item 12\n",
       "\\item 13\n",
       "\\item 14\n",
       "\\item 15\n",
       "\\item 16\n",
       "\\item 17\n",
       "\\item 18\n",
       "\\item 19\n",
       "\\item 20\n",
       "\\item <NA>\n",
       "\\item <NA>\n",
       "\\item <NA>\n",
       "\\item <NA>\n",
       "\\item <NA>\n",
       "\\item <NA>\n",
       "\\item <NA>\n",
       "\\item <NA>\n",
       "\\item <NA>\n",
       "\\item 100\n",
       "\\end{enumerate*}\n"
      ],
      "text/markdown": [
       "1. 1\n",
       "2. 2\n",
       "3. 3\n",
       "4. 4\n",
       "5. 5\n",
       "6. 6\n",
       "7. 7\n",
       "8. 8\n",
       "9. 9\n",
       "10. 10\n",
       "11. 11\n",
       "12. 12\n",
       "13. 13\n",
       "14. 14\n",
       "15. 15\n",
       "16. 16\n",
       "17. 17\n",
       "18. 18\n",
       "19. 19\n",
       "20. 20\n",
       "21. &lt;NA&gt;\n",
       "22. &lt;NA&gt;\n",
       "23. &lt;NA&gt;\n",
       "24. &lt;NA&gt;\n",
       "25. &lt;NA&gt;\n",
       "26. &lt;NA&gt;\n",
       "27. &lt;NA&gt;\n",
       "28. &lt;NA&gt;\n",
       "29. &lt;NA&gt;\n",
       "30. 100\n",
       "\n",
       "\n"
      ],
      "text/plain": [
       " [1]   1   2   3   4   5   6   7   8   9  10  11  12  13  14  15  16  17  18  19\n",
       "[20]  20  NA  NA  NA  NA  NA  NA  NA  NA  NA 100"
      ]
     },
     "metadata": {},
     "output_type": "display_data"
    }
   ],
   "source": [
    "x <- 1:20\n",
    "x[30] <- 100\n",
    "x"
   ]
  },
  {
   "cell_type": "code",
   "execution_count": 100,
   "metadata": {},
   "outputs": [
    {
     "data": {
      "text/html": [
       "<ol class=list-inline>\n",
       "\t<li>'a'</li>\n",
       "\t<li>'z'</li>\n",
       "\t<li>'a'</li>\n",
       "\t<li>'z'</li>\n",
       "\t<li>'a'</li>\n",
       "</ol>\n"
      ],
      "text/latex": [
       "\\begin{enumerate*}\n",
       "\\item 'a'\n",
       "\\item 'z'\n",
       "\\item 'a'\n",
       "\\item 'z'\n",
       "\\item 'a'\n",
       "\\end{enumerate*}\n"
      ],
      "text/markdown": [
       "1. 'a'\n",
       "2. 'z'\n",
       "3. 'a'\n",
       "4. 'z'\n",
       "5. 'a'\n",
       "\n",
       "\n"
      ],
      "text/plain": [
       "[1] \"a\" \"z\" \"a\" \"z\" \"a\""
      ]
     },
     "metadata": {},
     "output_type": "display_data"
    }
   ],
   "source": [
    "x <- c(\"a\", \"b\", \"a\", \"b\", \"a\")\n",
    "x[x == \"b\"] <- \"z\"\n",
    "x"
   ]
  },
  {
   "cell_type": "code",
   "execution_count": 103,
   "metadata": {},
   "outputs": [
    {
     "data": {
      "text/html": [
       "<ol class=list-inline>\n",
       "\t<li>1</li>\n",
       "\t<li>2</li>\n",
       "\t<li>3</li>\n",
       "\t<li>4</li>\n",
       "\t<li>5</li>\n",
       "\t<li>0</li>\n",
       "\t<li>0</li>\n",
       "\t<li>0</li>\n",
       "\t<li>0</li>\n",
       "\t<li>0</li>\n",
       "\t<li>0</li>\n",
       "</ol>\n"
      ],
      "text/latex": [
       "\\begin{enumerate*}\n",
       "\\item 1\n",
       "\\item 2\n",
       "\\item 3\n",
       "\\item 4\n",
       "\\item 5\n",
       "\\item 0\n",
       "\\item 0\n",
       "\\item 0\n",
       "\\item 0\n",
       "\\item 0\n",
       "\\item 0\n",
       "\\end{enumerate*}\n"
      ],
      "text/markdown": [
       "1. 1\n",
       "2. 2\n",
       "3. 3\n",
       "4. 4\n",
       "5. 5\n",
       "6. 0\n",
       "7. 0\n",
       "8. 0\n",
       "9. 0\n",
       "10. 0\n",
       "11. 0\n",
       "\n",
       "\n"
      ],
      "text/plain": [
       " [1] 1 2 3 4 5 0 0 0 0 0 0"
      ]
     },
     "metadata": {},
     "output_type": "display_data"
    }
   ],
   "source": [
    "x <- c(1,2,3,4,5,6,7,8,9,10,11)\n",
    "x[x > 5] <- 0\n",
    "x"
   ]
  },
  {
   "cell_type": "code",
   "execution_count": 111,
   "metadata": {},
   "outputs": [
    {
     "data": {
      "text/html": [
       "TRUE"
      ],
      "text/latex": [
       "TRUE"
      ],
      "text/markdown": [
       "TRUE"
      ],
      "text/plain": [
       "[1] TRUE"
      ]
     },
     "metadata": {},
     "output_type": "display_data"
    },
    {
     "data": {
      "text/html": [
       "5"
      ],
      "text/latex": [
       "5"
      ],
      "text/markdown": [
       "5"
      ],
      "text/plain": [
       "[1] 5"
      ]
     },
     "metadata": {},
     "output_type": "display_data"
    },
    {
     "data": {
      "text/html": [
       "<ol class=list-inline>\n",
       "\t<li>-1.2</li>\n",
       "\t<li>0.27</li>\n",
       "\t<li>5</li>\n",
       "\t<li>-2.34</li>\n",
       "\t<li>0.42</li>\n",
       "</ol>\n"
      ],
      "text/latex": [
       "\\begin{enumerate*}\n",
       "\\item -1.2\n",
       "\\item 0.27\n",
       "\\item 5\n",
       "\\item -2.34\n",
       "\\item 0.42\n",
       "\\end{enumerate*}\n"
      ],
      "text/markdown": [
       "1. -1.2\n",
       "2. 0.27\n",
       "3. 5\n",
       "4. -2.34\n",
       "5. 0.42\n",
       "\n",
       "\n"
      ],
      "text/plain": [
       "[1] -1.20  0.27  5.00 -2.34  0.42"
      ]
     },
     "metadata": {},
     "output_type": "display_data"
    },
    {
     "data": {
      "text/html": [
       "<ol class=list-inline>\n",
       "\t<li>1</li>\n",
       "\t<li>2</li>\n",
       "\t<li>5</li>\n",
       "\t<li>-2.34</li>\n",
       "\t<li>0.42</li>\n",
       "</ol>\n"
      ],
      "text/latex": [
       "\\begin{enumerate*}\n",
       "\\item 1\n",
       "\\item 2\n",
       "\\item 5\n",
       "\\item -2.34\n",
       "\\item 0.42\n",
       "\\end{enumerate*}\n"
      ],
      "text/markdown": [
       "1. 1\n",
       "2. 2\n",
       "3. 5\n",
       "4. -2.34\n",
       "5. 0.42\n",
       "\n",
       "\n"
      ],
      "text/plain": [
       "[1]  1.00  2.00  5.00 -2.34  0.42"
      ]
     },
     "metadata": {},
     "output_type": "display_data"
    },
    {
     "data": {
      "text/html": [
       "<ol class=list-inline>\n",
       "\t<li>18</li>\n",
       "\t<li>20</li>\n",
       "\t<li>21</li>\n",
       "\t<li>20</li>\n",
       "\t<li>0</li>\n",
       "\t<li>26</li>\n",
       "\t<li>27</li>\n",
       "\t<li>25</li>\n",
       "\t<li>0</li>\n",
       "\t<li>26</li>\n",
       "\t<li>26</li>\n",
       "\t<li>0</li>\n",
       "\t<li>23</li>\n",
       "\t<li>22</li>\n",
       "\t<li>40</li>\n",
       "\t<li>30</li>\n",
       "</ol>\n"
      ],
      "text/latex": [
       "\\begin{enumerate*}\n",
       "\\item 18\n",
       "\\item 20\n",
       "\\item 21\n",
       "\\item 20\n",
       "\\item 0\n",
       "\\item 26\n",
       "\\item 27\n",
       "\\item 25\n",
       "\\item 0\n",
       "\\item 26\n",
       "\\item 26\n",
       "\\item 0\n",
       "\\item 23\n",
       "\\item 22\n",
       "\\item 40\n",
       "\\item 30\n",
       "\\end{enumerate*}\n"
      ],
      "text/markdown": [
       "1. 18\n",
       "2. 20\n",
       "3. 21\n",
       "4. 20\n",
       "5. 0\n",
       "6. 26\n",
       "7. 27\n",
       "8. 25\n",
       "9. 0\n",
       "10. 26\n",
       "11. 26\n",
       "12. 0\n",
       "13. 23\n",
       "14. 22\n",
       "15. 40\n",
       "16. 30\n",
       "\n",
       "\n"
      ],
      "text/plain": [
       " [1] 18 20 21 20  0 26 27 25  0 26 26  0 23 22 40 30"
      ]
     },
     "metadata": {},
     "output_type": "display_data"
    }
   ],
   "source": [
    "x1 <- c(-1.2, 0.27, 1.08, -2.34, 0.42)\n",
    "x2 <- c(18, 20, 21, 20, 24, 26, 27, 25, 24, 26, 26, 24, 23, 22, 40,\n",
    "30)\n",
    "20 %in% x2\n",
    "match(24, x2)\n",
    "x1[3] <- 5\n",
    "x1\n",
    "x1[1:2] <- c(1, 2)\n",
    "x1\n",
    "x2[x2 == 24] <- 0\n",
    "x2"
   ]
  },
  {
   "cell_type": "code",
   "execution_count": 118,
   "metadata": {},
   "outputs": [
    {
     "data": {
      "text/html": [
       "<ol class=list-inline>\n",
       "\t<li>FALSE</li>\n",
       "\t<li>FALSE</li>\n",
       "\t<li>TRUE</li>\n",
       "\t<li>FALSE</li>\n",
       "\t<li>TRUE</li>\n",
       "\t<li>FALSE</li>\n",
       "</ol>\n"
      ],
      "text/latex": [
       "\\begin{enumerate*}\n",
       "\\item FALSE\n",
       "\\item FALSE\n",
       "\\item TRUE\n",
       "\\item FALSE\n",
       "\\item TRUE\n",
       "\\item FALSE\n",
       "\\end{enumerate*}\n"
      ],
      "text/markdown": [
       "1. FALSE\n",
       "2. FALSE\n",
       "3. TRUE\n",
       "4. FALSE\n",
       "5. TRUE\n",
       "6. FALSE\n",
       "\n",
       "\n"
      ],
      "text/plain": [
       "[1] FALSE FALSE  TRUE FALSE  TRUE FALSE"
      ]
     },
     "metadata": {},
     "output_type": "display_data"
    },
    {
     "data": {
      "text/html": [
       "<ol class=list-inline>\n",
       "\t<li>3</li>\n",
       "\t<li>5</li>\n",
       "</ol>\n"
      ],
      "text/latex": [
       "\\begin{enumerate*}\n",
       "\\item 3\n",
       "\\item 5\n",
       "\\end{enumerate*}\n"
      ],
      "text/markdown": [
       "1. 3\n",
       "2. 5\n",
       "\n",
       "\n"
      ],
      "text/plain": [
       "[1] 3 5"
      ]
     },
     "metadata": {},
     "output_type": "display_data"
    },
    {
     "data": {
      "text/html": [
       "<ol class=list-inline>\n",
       "\t<li>1</li>\n",
       "\t<li>2</li>\n",
       "\t<li>5</li>\n",
       "\t<li>3</li>\n",
       "</ol>\n"
      ],
      "text/latex": [
       "\\begin{enumerate*}\n",
       "\\item 1\n",
       "\\item 2\n",
       "\\item 5\n",
       "\\item 3\n",
       "\\end{enumerate*}\n"
      ],
      "text/markdown": [
       "1. 1\n",
       "2. 2\n",
       "3. 5\n",
       "4. 3\n",
       "\n",
       "\n"
      ],
      "text/plain": [
       "[1] 1 2 5 3"
      ]
     },
     "metadata": {},
     "output_type": "display_data"
    },
    {
     "data": {
      "text/html": [
       "2.75"
      ],
      "text/latex": [
       "2.75"
      ],
      "text/markdown": [
       "2.75"
      ],
      "text/plain": [
       "[1] 2.75"
      ]
     },
     "metadata": {},
     "output_type": "display_data"
    },
    {
     "data": {
      "text/html": [
       "2.75"
      ],
      "text/latex": [
       "2.75"
      ],
      "text/markdown": [
       "2.75"
      ],
      "text/plain": [
       "[1] 2.75"
      ]
     },
     "metadata": {},
     "output_type": "display_data"
    }
   ],
   "source": [
    "counts <- c(1, 2, NA, 5, NA, 3)\n",
    "is.na(counts)\n",
    "which(is.na(counts))\n",
    "counts[!is.na(counts)]\n",
    "counts <- counts[!is.na(counts)]\n",
    "mean(counts)\n",
    "mean(counts, na.rm = TRUE ) #na.rm calcula a média considerando apenas os dados existentes"
   ]
  },
  {
   "cell_type": "code",
   "execution_count": 121,
   "metadata": {},
   "outputs": [
    {
     "data": {
      "text/plain": [
       "animales\n",
       "cachorro   coelho    porco \n",
       "       2        1        2 "
      ]
     },
     "metadata": {},
     "output_type": "display_data"
    },
    {
     "data": {
      "text/plain": [
       "animales\n",
       "cachorro   coelho    porco     <NA> \n",
       "       2        1        2        2 "
      ]
     },
     "metadata": {},
     "output_type": "display_data"
    }
   ],
   "source": [
    "animales <- c(\"cachorro\", \"porco\", \"coelho\", NA, \"porco\", NA, \"cachorro\")\n",
    "table(animales)\n",
    "table(animales, useNA=\"ifany\")"
   ]
  },
  {
   "cell_type": "code",
   "execution_count": null,
   "metadata": {},
   "outputs": [],
   "source": []
  }
 ],
 "metadata": {
  "kernelspec": {
   "display_name": "R",
   "language": "R",
   "name": "ir"
  },
  "language_info": {
   "codemirror_mode": "r",
   "file_extension": ".r",
   "mimetype": "text/x-r-source",
   "name": "R",
   "pygments_lexer": "r",
   "version": "4.0.2"
  }
 },
 "nbformat": 4,
 "nbformat_minor": 2
}
